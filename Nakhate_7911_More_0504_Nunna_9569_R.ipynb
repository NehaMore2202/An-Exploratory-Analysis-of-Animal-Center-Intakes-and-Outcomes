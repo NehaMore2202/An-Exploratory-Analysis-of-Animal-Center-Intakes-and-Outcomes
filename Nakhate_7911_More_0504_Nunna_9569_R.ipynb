{
 "cells": [
  {
   "cell_type": "markdown",
   "id": "938d07a9",
   "metadata": {},
   "source": [
    "###  Chetan Arjun Nakhate (1002157911)\n",
    "### Neha More (1002060504)\n",
    "### Harsha Vardhan Nunna (1002159569)"
   ]
  },
  {
   "cell_type": "markdown",
   "id": "5b262325",
   "metadata": {},
   "source": [
    "# Assignment 1 - Exploratory Data Analysis"
   ]
  },
  {
   "cell_type": "markdown",
   "id": "fd2ffa3b",
   "metadata": {},
   "source": [
    "# 🌟 Programming Assignment Details 🌟\n",
    "\n",
    "Hey there, amazing data miners! 😊 Before you dive into the exciting world of data, here are a few friendly pointers for your upcoming programming assignment:\n",
    "\n",
    "1. **Resource Usage** 📚💻🤖: We totally encourage the use of various resources like books, internet sources, or even AI tools to aid your learning and assignment completion. It's all part of the learning journey! Just remember, if you do use any of these helpful resources, please give them a little shoutout (aka cite them) in the same cell where you've used them. It's all about giving credit where it's due!\n",
    "\n",
    "2. **Dataset File Names** 📁: You'll find some dataset files as part of this assignment. They're like little treasure chests of information, waiting to be unlocked by you! However, please make sure not to change their names. Think of their names as their unique identities - it helps us, and you, to keep track of them easily.\n",
    "\n",
    "3. **Image Analysis Submission** 📊🖼️: As you explore and analyze images, we'd love to see your findings! Please include all the image analyses in your submission folder. And here's a fun twist – let's name each image file according to the task it represents (like 'Task3B', 'Task3C', etc.). It's a great way to stay organized and it adds a personal touch to your work.\n",
    "\n",
    "We're super excited to see the wonderful insights you'll uncover! Dive in, enjoy, and remember – we're here to support you every step of the way. Happy data mining! 🌟🛠️💡"
   ]
  },
  {
   "cell_type": "markdown",
   "id": "32a55338",
   "metadata": {},
   "source": []
  },
  {
   "cell_type": "markdown",
   "id": "50a20b8f",
   "metadata": {},
   "source": [
    "## Instructions"
   ]
  },
  {
   "cell_type": "markdown",
   "id": "b94be1e7",
   "metadata": {},
   "source": [
    "For the First Assignment, we are going to be Performing Exploratory Data Analysis Using Python, R and LLM\n",
    "\n",
    "1. There are set of questions that may be similar for python and R .\n",
    "2. The dataset used for Python and R are different.\n",
    "3. For Task involving R use a different R notebook.\n",
    "3. Each Task is presenting a challenge.\n",
    "4. When using LLM make sure that you cite the tool and it corresponding prompts."
   ]
  },
  {
   "cell_type": "markdown",
   "id": "69b04c3b",
   "metadata": {},
   "source": [
    "## Task 2: R (40 Points)"
   ]
  },
  {
   "cell_type": "markdown",
   "id": "6ef65b36",
   "metadata": {},
   "source": [
    "Run this cell by default to load the dataset.\n",
    "\n",
    "The data contains intakes and outcomes of animals entering the Animal Center from the beginning of October 2013 to the present day. "
   ]
  },
  {
   "cell_type": "code",
   "execution_count": 3,
   "id": "fc13d1c7",
   "metadata": {
    "scrolled": false,
    "vscode": {
     "languageId": "rmd"
    }
   },
   "outputs": [
    {
     "ename": "ERROR",
     "evalue": "Error in library(readr): there is no package called 'readr'\n",
     "output_type": "error",
     "traceback": [
      "Error in library(readr): there is no package called 'readr'\nTraceback:\n",
      "1. library(readr)"
     ]
    }
   ],
   "source": [
    "# Required libraries\n",
    "library(readr)\n",
    "library(dplyr)\n",
    "library(ggplot2)\n",
    "library(tidyr)\n",
    "library(lubridate)\n",
    "library(patchwork) # For combining plots\n",
    "library(gridExtra)"
   ]
  },
  {
   "cell_type": "markdown",
   "id": "02461298",
   "metadata": {},
   "source": [
    "### Task 1A: 2 points\n",
    "Display all the details about the dataset"
   ]
  },
  {
   "cell_type": "code",
   "execution_count": null,
   "id": "00fe6156",
   "metadata": {
    "vscode": {
     "languageId": "r"
    }
   },
   "outputs": [],
   "source": [
    "# Load the dataset\n",
    "dataset <- read_csv(\"Animal_Center_Intakes.csv\")\n",
    "print(colnames(dataset))"
   ]
  },
  {
   "cell_type": "markdown",
   "id": "ea2808b7",
   "metadata": {},
   "source": [
    "### Task 1B: 4 points\n",
    "1. Check for null values within each column.\n",
    "2. Fill the values for more than 100 missing columns with certain label such as Not available, Not Name, etc. Drop the rows for the rest missing columns.\n",
    "3. Convert the date columns into appropriate type."
   ]
  },
  {
   "cell_type": "code",
   "execution_count": null,
   "id": "a2ec531a",
   "metadata": {
    "vscode": {
     "languageId": "r"
    }
   },
   "outputs": [],
   "source": [
    "# 1. Check for null values within each column\n",
    "null_values <- colSums(is.na(dataset))\n",
    "print(null_values)"
   ]
  },
  {
   "cell_type": "code",
   "execution_count": null,
   "id": "b35d21b2",
   "metadata": {
    "vscode": {
     "languageId": "r"
    }
   },
   "outputs": [],
   "source": [
    "# 2. Fill values for columns with more than 100 missing entries and drop rows for others\n",
    "columns_to_check <- colnames(dataset)\n",
    "columns_with_many_missing <- sapply(columns_to_check, function(col) sum(is.na(dataset[[col]])) > 100)\n",
    "\n",
    "# Drop rows with missing values only for columns with more than 100 missing entries\n",
    "rows_to_keep <- complete.cases(dataset[, columns_with_many_missing])\n",
    "\n",
    "# Drop rows with missing values for other columns\n",
    "rows_to_keep <- rows_to_keep & complete.cases(dataset[, !columns_with_many_missing])\n",
    "                                                      \n",
    "# Filter dataset\n",
    "dataset <- dataset[rows_to_keep, ]\n",
    "print(summary(dataset))"
   ]
  },
  {
   "cell_type": "code",
   "execution_count": null,
   "id": "160108a6",
   "metadata": {
    "vscode": {
     "languageId": "r"
    }
   },
   "outputs": [],
   "source": [
    "\n",
    "# Assuming 'IntakeDate' is the date column\n",
    "dataset$DateTime <- as.Date(dataset$DateTime, format = \"%Y-%m-%d\")"
   ]
  },
  {
   "cell_type": "markdown",
   "id": "e4665091",
   "metadata": {},
   "source": [
    "### Task 1C: 4 points\n",
    "1. Plot the Age Intake column and observe the distribution.\n",
    "2. Group certain values into categories,\n",
    "- Less than 1 week, Less than 1 month, Less than 1 year\n",
    "- Drop inappropriate negative valued years rows.\n",
    "3. Plot the Column to again see the new distributuions.\n",
    "\n",
    "Tip: consider 0 years as less than 1 year."
   ]
  },
  {
   "cell_type": "code",
   "execution_count": null,
   "id": "7393032e",
   "metadata": {
    "vscode": {
     "languageId": "r"
    }
   },
   "outputs": [],
   "source": [
    "# Ensure 'Age upon Intake' column exists in dataset\n",
    "if (!\"Age upon Intake\" %in% names(dataset)) {\n",
    "  stop(\"'Age upon Intake' column not found in the dataset.\")\n",
    "}\n",
    "\n",
    "\n",
    "# Convert \"Age upon Intake\" to numeric days\n",
    "dataset$Age_Days <- sapply(as.character(dataset$`Age upon Intake`), function(x) {\n",
    "  parts <- strsplit(x, \" \")[[1]]\n",
    "  if(length(parts) < 2) return(NA)  # Ensure there are two parts to prevent errors\n",
    "  quantity <- as.numeric(parts[1])\n",
    "  unit <- parts[2]\n",
    "  if(unit %in% c(\"day\", \"days\")) {\n",
    "    return(quantity)\n",
    "  } else if(unit %in% c(\"week\", \"weeks\")) {\n",
    "    return(quantity * 7)\n",
    "  } else if(unit %in% c(\"month\", \"months\")) {\n",
    "    return(quantity * 30)  # Approximation of a month\n",
    "  } else if(unit %in% c(\"year\", \"years\")) {\n",
    "    return(quantity * 365)  # Approximation of a year\n",
    "  } else {\n",
    "    return(NA)  # In case of an unexpected format\n",
    "  }\n",
    "})\n",
    "\n",
    "# Filter out negative or NA values in 'Age_Days'\n",
    "dataset <- dataset[!is.na(dataset$Age_Days) & dataset$Age_Days >= 0, ]\n",
    "\n",
    "\n"
   ]
  },
  {
   "cell_type": "code",
   "execution_count": null,
   "id": "968e729e",
   "metadata": {
    "vscode": {
     "languageId": "r"
    }
   },
   "outputs": [],
   "source": [
    "# Categorize the 'Age_Days' into specified groups\n",
    "dataset$Age_Category <- cut(dataset$Age_Days,\n",
    "                            breaks = c(-Inf, 7, 30, 365, Inf),\n",
    "                            labels = c(\"Less than 1 week\", \"Less than 1 month\", \"Less than 1 year\", \"1 year or more\"))"
   ]
  },
  {
   "cell_type": "code",
   "execution_count": null,
   "id": "d994780c",
   "metadata": {
    "vscode": {
     "languageId": "r"
    }
   },
   "outputs": [],
   "source": [
    "\n",
    "# Plot the distribution of age categories\n",
    "ggplot(dataset, aes(x = Age_Category)) +\n",
    "  geom_bar(fill = \"blue\") +\n",
    "  theme_minimal() +\n",
    "  xlab(\"Age Category\") +\n",
    "  ylab(\"Count\") +\n",
    "  ggtitle(\"Distribution of Age Categories After Categorization\")"
   ]
  },
  {
   "cell_type": "markdown",
   "id": "99e64374",
   "metadata": {},
   "source": [
    "### Task 1D: 2 points\n",
    "Print Top 15 locations where animals were found."
   ]
  },
  {
   "cell_type": "code",
   "execution_count": null,
   "id": "46e58fed",
   "metadata": {
    "vscode": {
     "languageId": "r"
    }
   },
   "outputs": [],
   "source": [
    "# Group by 'Found Location', count, and then arrange in descending order\n",
    "top_locations <- dataset %>%\n",
    "  group_by(`Found Location`) %>%\n",
    "  summarise(Count = n()) %>%\n",
    "  arrange(desc(Count)) %>%\n",
    "  top_n(15, Count)\n",
    "\n",
    "# Print the top 15 locations\n",
    "print(top_locations)"
   ]
  },
  {
   "cell_type": "markdown",
   "id": "5448e82e",
   "metadata": {},
   "source": [
    "### Task 1E: 2 points\n",
    "Print Top 10 breeds with animal type that were stray and were found in between 15 to 20 years old."
   ]
  },
  {
   "cell_type": "code",
   "execution_count": null,
   "id": "114f1f44",
   "metadata": {
    "vscode": {
     "languageId": "r"
    }
   },
   "outputs": [],
   "source": [
    "dataset$Age_Years <- dataset$Age_Days / 365\n",
    "\n",
    "# Filter for stray animals found between 15 to 20 years old\n",
    "stray_15_20 <- dataset %>%\n",
    "  filter(`Intake Type` == \"Stray\" & Age_Years >= 15 & Age_Years <= 20) %>%\n",
    "  group_by(Breed, `Animal Type`) %>%\n",
    "  summarise(Count = n()) %>%\n",
    "  arrange(desc(Count)) %>%\n",
    "  top_n(10, Count)\n",
    "\n",
    "# Print the top 10 breeds with animal type\n",
    "print(stray_15_20)"
   ]
  },
  {
   "cell_type": "markdown",
   "id": "a0c91805",
   "metadata": {},
   "source": [
    "### Task 1F: 4 points\n",
    "Display horizontal bar graph for Top 10 Locations where animals were found at night time that were sick.\n",
    "\n",
    "Note: night time = 7pm to 12am"
   ]
  },
  {
   "cell_type": "code",
   "execution_count": null,
   "id": "89653216",
   "metadata": {
    "scrolled": false,
    "vscode": {
     "languageId": "r"
    }
   },
   "outputs": [],
   "source": [
    "df <- read.csv(\"Animal_Center_Intakes.csv\")\n",
    "\n",
    "# Convert 'DateTime' column to proper datetime format\n",
    "df$DateTime <- as.POSIXct(df$DateTime, format = \"%m/%d/%Y %I:%M:%S %p\")\n",
    "\n",
    "# Filter the dataset for entries where animals were found at night time and were sick\n",
    "night_sick <- df %>%\n",
    "  filter(hour(DateTime) >= 19 & hour(DateTime) < 24 & `Intake.Condition` == \"Sick\")\n",
    "\n",
    "# Count occurrences of each location\n",
    "location_counts <- table(night_sick$`Found.Location`)\n",
    "\n",
    "# Sort the locations by count and select the top 10\n",
    "top_locations <- names(sort(location_counts, decreasing = TRUE)[1:10])\n",
    "\n",
    "# Filter the dataset to include only the top 10 locations\n",
    "top_locations_data <- night_sick %>%\n",
    "  filter(`Found.Location` %in% top_locations)\n",
    "\n",
    "# Plot horizontal bar graph\n",
    "ggplot(top_locations_data, aes(y = `Found.Location`)) +\n",
    "  geom_bar() +\n",
    "  ggtitle(\"Top 10 Locations where Sick Animals were Found at Night Time\") +\n",
    "  xlab(\"Number of Sick Animals\") +\n",
    "  ylab(\"Location\") +\n",
    "  theme_minimal() +\n",
    "  theme(axis.text.y = element_text(size = 10))\n",
    "\n"
   ]
  },
  {
   "cell_type": "markdown",
   "id": "052de244",
   "metadata": {},
   "source": [
    "### Task 1G: 3 points\n",
    "\n",
    "Display a pie chart for cat conditions when they were found at '4434 Frontier Trl in Austin (TX)'."
   ]
  },
  {
   "cell_type": "code",
   "execution_count": null,
   "id": "8c7fd4fa",
   "metadata": {
    "vscode": {
     "languageId": "r"
    }
   },
   "outputs": [],
   "source": [
    "# Read the dataset\n",
    "df <- read_csv(\"Animal_Center_Intakes.csv\")\n",
    "\n",
    "# Filter the dataset for cats found at '4434 Frontier Trl in Austin (TX)'\n",
    "cats_at_location <- df %>%\n",
    "  filter(`Found Location` == '4434 Frontier Trl in Austin (TX)' & `Animal Type` == 'Cat')\n",
    "\n",
    "# Count occurrences of each condition\n",
    "condition_counts <- table(cats_at_location$`Intake Condition`)\n",
    "\n",
    "# Plot pie chart\n",
    "pie(condition_counts, \n",
    "    labels = paste(names(condition_counts), \": \", condition_counts), \n",
    "    main = \"Cat Conditions at 4434 Frontier Trl in Austin (TX)\")\n"
   ]
  },
  {
   "cell_type": "markdown",
   "id": "77474a0f",
   "metadata": {},
   "source": [
    "### Task 1H: 4 points\n",
    "Display a bar chart for Top 10 colors of animal that were surrendered."
   ]
  },
  {
   "cell_type": "code",
   "execution_count": null,
   "id": "eed1fbed",
   "metadata": {
    "vscode": {
     "languageId": "r"
    }
   },
   "outputs": [],
   "source": [
    "# Filter for surrendered animals\n",
    "surrendered_animals <- dataset %>%\n",
    "  filter( `Intake Type` == \"Surrender\")\n",
    "\n",
    "# Count the occurrences of each color and select the top 10\n",
    "top_colors <- surrendered_animals %>%\n",
    "  group_by(Color) %>%\n",
    "  summarise(Count = n()) %>%\n",
    "  arrange(desc(Count)) %>%\n",
    "  top_n(10, Count)\n",
    "\n",
    "# Plot the bar chart\n",
    "ggplot(top_colors, aes(x = reorder(Color, Count), y = Count)) +\n",
    "  geom_bar(stat = \"identity\", fill = \"steelblue\") +\n",
    "  theme_minimal() +\n",
    "  labs(title = \"Top 10 Colors of Surrendered Animals\",\n",
    "       x = \"Color\",\n",
    "       y = \"Count\") +\n",
    "  coord_flip() # Flip coordinates for horizontal bar chart\n"
   ]
  },
  {
   "cell_type": "markdown",
   "id": "a9c13439",
   "metadata": {},
   "source": [
    "### Task 1I: 6 points\n",
    "\n",
    "Display a 2 by 2 graphs where spots are defined as\n",
    "1. Pie chart for intake type.\n",
    "2. Pie chart for Intake Condition\n",
    "3. Pie chart for Animal Type.\n",
    "4. Horizontal Distribution for Intake condition for Dogs."
   ]
  },
  {
   "cell_type": "code",
   "execution_count": null,
   "id": "0ffd374e",
   "metadata": {
    "vscode": {
     "languageId": "r"
    }
   },
   "outputs": [],
   "source": [
    "df <- read.csv(\"Animal_Center_Intakes.csv\")\n",
    "print(colnames(df))\n",
    "# Load required library\n",
    "library(ggplot2)\n",
    "\n",
    "# Create a 2 by 2 grid layout\n",
    "par(mfrow = c(2, 2))\n",
    "\n",
    "# Plot 1: Pie chart for Intake Type\n",
    "intake_type_counts <- table(df$`Intake.Type`)\n",
    "if (length(intake_type_counts) > 0) {\n",
    "  pie(intake_type_counts, main = \"Intake Type\")\n",
    "} else {\n",
    "  message(\"No data available for Intake Type\")\n",
    "}\n",
    "\n",
    "# Plot 2: Pie chart for Intake Condition\n",
    "intake_condition_counts <- table(df$`Intake.Condition`)\n",
    "if (length(intake_condition_counts) > 0) {\n",
    "  pie(intake_condition_counts, main = \"Intake Condition\")\n",
    "} else {\n",
    "  message(\"No data available for Intake Condition\")\n",
    "}\n",
    "\n",
    "# Plot 3: Pie chart for Animal Type\n",
    "animal_type_counts <- table(df$`Animal.Type`)\n",
    "if (length(animal_type_counts) > 0) {\n",
    "  pie(animal_type_counts, main = \"Animal Type\")\n",
    "} else {\n",
    "  message(\"No data available for Animal Type\")\n",
    "}\n",
    "\n",
    "# Plot 4: Horizontal bar plot for Intake Condition for Dogs\n",
    "dog_intake_condition_counts <- table(subset(df, `Animal.Type` == \"Dog\")$`Intake.Condition`)\n",
    "if (length(dog_intake_condition_counts) > 0) {\n",
    "  barplot(dog_intake_condition_counts, horiz = TRUE, main = \"Intake Condition for Dogs\")\n",
    "} else {\n",
    "  message(\"No data available for Intake Condition for Dogs\")\n",
    "}\n"
   ]
  },
  {
   "cell_type": "markdown",
   "id": "eb8aad5f",
   "metadata": {},
   "source": [
    "### Task 1J: 3 points\n",
    "Print Top 10 Breeds of animal who were less than a year old when they were taken in along with what type of animal they were."
   ]
  },
  {
   "cell_type": "code",
   "execution_count": null,
   "id": "e55acd6f",
   "metadata": {
    "vscode": {
     "languageId": "r"
    }
   },
   "outputs": [],
   "source": [
    "# Read the dataset\n",
    "df <- read.csv(\"Animal_Center_Intakes.csv\")\n",
    "\n",
    "# Convert Age upon Intake to numeric\n",
    "df$Age.numeric <- as.numeric(sub(\" .*\", \"\", df$Age.upon.Intake))\n",
    "\n",
    "# Filter for animals less than a year old\n",
    "filtered_df <- df %>% filter(Age.numeric < 1)\n",
    "\n",
    "# Count occurrences of each breed for animals less than a year old\n",
    "top_breeds <- filtered_df %>%\n",
    "  group_by(`Animal.Type`, Breed) %>%\n",
    "  summarise(count = n()) %>%\n",
    "  arrange(`Animal.Type`, desc(count)) %>%\n",
    "  group_by(`Animal.Type`) %>%\n",
    "  slice_max(order_by = count, n = 10)\n",
    "\n",
    "# Print top 10 breeds along with animal type\n",
    "print(breed_counts)\n",
    "\n",
    "\n"
   ]
  },
  {
   "cell_type": "markdown",
   "id": "fc36e193",
   "metadata": {},
   "source": [
    "### Task 1K: 6 points\n",
    "1. Print the count of distinct sex intake from 2015 to 2020.\n",
    "2. Display a side by side bar graph this."
   ]
  },
  {
   "cell_type": "code",
   "execution_count": null,
   "id": "ea4f41da",
   "metadata": {
    "vscode": {
     "languageId": "r"
    }
   },
   "outputs": [],
   "source": [
    "\n",
    "df <- read.csv(\"Animal_Center_Intakes.csv\")\n",
    "\n",
    "# Convert DateTime column to date format\n",
    "df$DateTime <- as.POSIXct(df$DateTime, format = \"%m/%d/%Y %I:%M:%S %p\")\n",
    "\n",
    "# Extract year from DateTime column\n",
    "df$Year <- lubridate::year(df$DateTime)\n",
    "\n",
    "# Filter data for the years 2015 to 2020\n",
    "filtered_df <- df %>% filter(Year >= 2015 & Year <= 2020)\n",
    "\n",
    "# Count distinct sex intake\n",
    "sex_intake_count <- filtered_df %>% group_by(Sex.upon.Intake) %>% summarise(count = n_distinct(Animal.ID))\n",
    "\n",
    "# Print count of distinct sex intake\n",
    "print(sex_intake_count)\n",
    "\n"
   ]
  },
  {
   "cell_type": "code",
   "execution_count": null,
   "id": "35056ab9",
   "metadata": {
    "vscode": {
     "languageId": "r"
    }
   },
   "outputs": [],
   "source": [
    "# Plot side by side bar graph\n",
    "ggplot(sex_intake_count, aes(x = Sex.upon.Intake, y = count, fill = Sex.upon.Intake)) +\n",
    "  geom_bar(stat = \"identity\") +\n",
    "  labs(title = \"Count of Distinct Sex Intake from 2015 to 2020\", x = \"Sex upon Intake\", y = \"Count\") +\n",
    "  theme_minimal() +\n",
    "  theme(legend.position = \"none\")"
   ]
  }
 ],
 "metadata": {
  "kernelspec": {
   "display_name": "R",
   "language": "R",
   "name": "ir"
  },
  "language_info": {
   "codemirror_mode": "r",
   "file_extension": ".r",
   "mimetype": "text/x-r-source",
   "name": "R",
   "pygments_lexer": "r",
   "version": "3.6.1"
  }
 },
 "nbformat": 4,
 "nbformat_minor": 5
}
